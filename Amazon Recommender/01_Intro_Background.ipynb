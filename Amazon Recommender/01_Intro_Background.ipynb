{
 "cells": [
  {
   "cell_type": "markdown",
   "id": "17fdf8ef-a275-4472-a51c-50bde5f1f855",
   "metadata": {},
   "source": [
    "# 01 Amazon Beauty Product Recommender\n",
    "\n",
    "This project will consist of 4 code notebooks.\n",
    "\n",
    "- 01 Project Introduction\n",
    "- 02 Exploratory Data Analysis\n",
    "- 03 TF-IDF + Cosine Similarity modelling\n",
    "- 04 Word2vec + Cosine similarity modelling"
   ]
  },
  {
   "cell_type": "markdown",
   "id": "58c4bfd1-9ed5-441c-aa7a-9184e70bf662",
   "metadata": {},
   "source": [
    "## Background\n",
    "\n",
    "Amazon is an American multinational technology company focusing on e-commerce, cloud computing, online advertising, digital streaming, and artificial intelligence. In 2020, Amazon captured 32 percent of all beauty and skin care bought online, with $23 billion in total sales.\n",
    "\n",
    "The Covid-19 pandemic has boosted the sale online purchases in general globally, with consumers found themselves spending their time in quarrantine. \n",
    "\n",
    "#### Some stats taken from: https://www.powerreviews.com/insights/2021-beauty-industry-consumer-report/\n",
    "\n",
    "- 87% of people say they spend more or the same online than before Covid\n",
    "- 49% say they now spend more than $50 online on beauty products; compared to 16% in the previous year (2019)\n",
    "- 57% of shoppers say that they had never tried more of a quarter of the beauty products they bought online in 2020 (i.e. they were first time purchases)\n",
    "- 41% say they rely on reviews more than they did pre-Covid\n",
    "- **76% focusing on buying products that are sustainably made**\n",
    "- **54% (more than half) of consumers indicate they wear less makeup now than pre-COVID**\n",
    "\n",
    "One pattern was observed that, during Covid, more than half of the consumers claimed that they wore less makeup, yet beauty product sales has soared. On the other hand, survey suggest that the consumers do care about products that are sustainably made, yet on a personal level, consumers are buying in **excess**"
   ]
  },
  {
   "cell_type": "markdown",
   "id": "103d34d3-4c19-44d4-9f3b-3913c2b84653",
   "metadata": {},
   "source": [
    "## Problem Statement\n",
    "\n",
    "Consumers are concerned about beauty products manufactured and the impact it does to the environment, yet they are indulging in buying new products that are pushed to them via attractive sales or word of mouths recommendations from influencers.\n",
    "\n",
    "This project aims to address a consumer's desire to create less waste from beauty products by encourageing them to purchase more sensibly via a recommendation system that contains reviews and scores of a product that were gathered from an Amazon user's raw inputs.\n"
   ]
  },
  {
   "cell_type": "markdown",
   "id": "097d7d6d-1d9f-42e2-b71c-ad39cf555830",
   "metadata": {},
   "source": [
    "## Dataset\n",
    "\n",
    "My Dataset is obtained from this source: http://jmcauley.ucsd.edu/data/amazon/\n",
    "\n",
    "Beauty Review Dataset: 371,345 rows, 9 columns\n",
    "\n",
    "| Features       | Description                                |\n",
    "|----------------|--------------------------------------------|\n",
    "| reviewerID     | ID of the reviewer                         |\n",
    "| asin           | ID of the product                          |\n",
    "| reviewerName   | name of the reviewer                       |\n",
    "| helpful        | helpfulness rating of the review, e.g. 2/3 |\n",
    "| reviewText     | text of the review                         |\n",
    "| overall        | rating of the product                      |\n",
    "| summary        | summary of the review                      |\n",
    "| unixReviewTime | time of the review (unix time)             |\n",
    "| reviewTime     | time of the review (raw)                   |\n",
    "\n",
    "\n",
    "Beauty Metadata Dataset: 32,892 rows, 8 columns\n",
    "\n",
    "| Features   | Description                                                                     |\n",
    "|------------|---------------------------------------------------------------------------------|\n",
    "| asin       | ID of the product                                                               |\n",
    "| title      | name of the product                                                             |\n",
    "| price      | price in US dollars                                                             |\n",
    "| imgURL     | url of the product image                                                        |\n",
    "| related    | related products (also bought, also viewed, bought together, buy after viewing) |\n",
    "| salesRank  | sales rank information                                                          |\n",
    "| brand      | brand name                                                                      |\n",
    "| categories | list of categories the product belongs to                                       |"
   ]
  },
  {
   "cell_type": "markdown",
   "id": "22d3ecac-8ef5-4920-8e30-bcdba5ddd24d",
   "metadata": {},
   "source": [
    "## Project scope\n"
   ]
  },
  {
   "cell_type": "markdown",
   "id": "2db07047-26c5-4010-8e0c-929aada7c485",
   "metadata": {},
   "source": [
    "For this project, we will build a **content based recommendation system** to recommend similar products available in Amazon according to user inputs. There are a wealth of text data available in this datasets, as such we will be using NLP (Natural Language Processing) techniques to turn these data into valuable insights for use. \n",
    "\n",
    "We will explore various methods to model our recommendations system. First we will build a simple baseline model using Bag-Of-Words model to test the effectiveness of the recommendation system. Subsequently, more advance NLP techniques like word embeddings will be implemented to test the robustness of the recommendation system against the baseline model."
   ]
  },
  {
   "cell_type": "code",
   "execution_count": null,
   "id": "ae0bb426-7dd6-42b8-b1b4-20fb88c4d7b9",
   "metadata": {},
   "outputs": [],
   "source": []
  }
 ],
 "metadata": {
  "kernelspec": {
   "display_name": "Python 3 (ipykernel)",
   "language": "python",
   "name": "python3"
  },
  "language_info": {
   "codemirror_mode": {
    "name": "ipython",
    "version": 3
   },
   "file_extension": ".py",
   "mimetype": "text/x-python",
   "name": "python",
   "nbconvert_exporter": "python",
   "pygments_lexer": "ipython3",
   "version": "3.8.13"
  }
 },
 "nbformat": 4,
 "nbformat_minor": 5
}
