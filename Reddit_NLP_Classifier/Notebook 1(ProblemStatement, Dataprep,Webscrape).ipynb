{
 "cells": [
  {
   "cell_type": "markdown",
   "id": "9b9058d6-e50d-4d16-902c-a882146c3ed9",
   "metadata": {},
   "source": [
    "# Project 3"
   ]
  },
  {
   "cell_type": "markdown",
   "id": "4a3b3fab-80e1-4bfd-b62b-f2afa246f3be",
   "metadata": {},
   "source": [
    "# Notebook 1"
   ]
  },
  {
   "cell_type": "markdown",
   "id": "305c1326-32a8-47f7-b077-c3176803de4b",
   "metadata": {},
   "source": [
    "## Background"
   ]
  },
  {
   "cell_type": "markdown",
   "id": "990b3958-aa87-4a6d-aa59-7306cc2436a7",
   "metadata": {},
   "source": [
    "Starbucks and Dunkin Donuts are the two most recognized brands in the United States' coffee chain industry. Both comapnies offer similar coffee options and similar overall strategies. Nonetheless, there are key differences in the ways both businesses operates.\n",
    "\n",
    "Despite being founded 20 years after Dunkin Donuts, Starbucks have grew beyond their competitors and is currently a substantially larger company. Generating over 23.5 billion in 2020 while Dunkin's revenue only stood at $1.3 billion. "
   ]
  },
  {
   "cell_type": "markdown",
   "id": "1797ae1f-be09-4590-9ac8-203740952940",
   "metadata": {},
   "source": [
    "## Problem Statement"
   ]
  },
  {
   "cell_type": "markdown",
   "id": "febc18ba-bf02-4ff1-8f5b-f8d6407e4877",
   "metadata": {},
   "source": [
    "Upper management in Starbucks has noticed that the starbucks subreddit generates over 90 post and 600 comments a day. The number of subsribers has also increased exponentially especailly in the past 4 years.\n",
    "\n",
    "They have then engaged the data science team to explore the possibility of extracting value from the starbucks subreddit. The team has decided to compare the content on starbucks subreddit to our competitor DunkinDonuts. As Halloween is just a month away, both Starbucks and DunkinDonuts have launched new products to celebrate this holiday. \n",
    "#### Objective \n",
    "- We aim to discover if the new products are actually getting any buzz through reddit\n",
    "- To discover if it is of any value to Starbucks if reddit is a good source to validate our products in the future"
   ]
  },
  {
   "cell_type": "markdown",
   "id": "f8cf4c83-a6f5-49fd-b15d-7bbc33282b54",
   "metadata": {},
   "source": [
    "### Webscraping from reddit"
   ]
  },
  {
   "cell_type": "code",
   "execution_count": 13,
   "id": "fb0242fd-48e4-4a26-8164-13960a021467",
   "metadata": {},
   "outputs": [],
   "source": [
    "import pandas as pd\n",
    "import numpy as np\n",
    "import requests as requests"
   ]
  },
  {
   "cell_type": "code",
   "execution_count": 14,
   "id": "ae520fa8-884f-4b00-a685-0cf84b86ac26",
   "metadata": {},
   "outputs": [],
   "source": [
    "url = 'https://api.pushshift.io/reddit/search/submission'"
   ]
  },
  {
   "cell_type": "code",
   "execution_count": 15,
   "id": "498af432-0b9c-4656-aa57-dd0303dee7a5",
   "metadata": {},
   "outputs": [],
   "source": [
    "params = {\n",
    "    \"subreddit\" :  \"starbucks\",\n",
    "    \"size\" : 250,   \n",
    "}"
   ]
  },
  {
   "cell_type": "code",
   "execution_count": null,
   "id": "a0b676ea-8ffb-4614-8da2-c831c36289a7",
   "metadata": {},
   "outputs": [],
   "source": [
    "res = requests.get(url,params)"
   ]
  },
  {
   "cell_type": "code",
   "execution_count": null,
   "id": "56b23c44-4d68-4e69-ac90-1251d2570118",
   "metadata": {},
   "outputs": [],
   "source": [
    "res.status_code"
   ]
  },
  {
   "cell_type": "code",
   "execution_count": null,
   "id": "f110fe49-0d1e-442c-acab-fe68bd206fc2",
   "metadata": {},
   "outputs": [],
   "source": [
    "data = res.json()"
   ]
  },
  {
   "cell_type": "code",
   "execution_count": null,
   "id": "6403a673-acd7-415c-afb6-4d4aae4290d7",
   "metadata": {},
   "outputs": [],
   "source": [
    "post = data['data']"
   ]
  },
  {
   "cell_type": "code",
   "execution_count": null,
   "id": "5817d018-5da7-4684-ba5b-efd46eecfa3f",
   "metadata": {
    "scrolled": true,
    "tags": []
   },
   "outputs": [],
   "source": [
    "post[0]['created_utc']"
   ]
  },
  {
   "cell_type": "code",
   "execution_count": null,
   "id": "86fb9c3b-f07e-43e8-aba4-814b70bb1590",
   "metadata": {},
   "outputs": [],
   "source": [
    "df = pd.DataFrame(post)"
   ]
  },
  {
   "cell_type": "code",
   "execution_count": null,
   "id": "7f174410-a1bb-4662-b6a0-be6bf7af0582",
   "metadata": {},
   "outputs": [],
   "source": [
    "df[['subreddit','selftext','title']]"
   ]
  },
  {
   "cell_type": "markdown",
   "id": "4e6baaff-4368-48ae-8567-54059fa15312",
   "metadata": {},
   "source": [
    "### Write a function to scrap post from subreddits"
   ]
  },
  {
   "cell_type": "code",
   "execution_count": 4,
   "id": "98ba3412-2ae0-46ae-a693-2f0799bb8bbc",
   "metadata": {},
   "outputs": [],
   "source": [
    "url = 'https://api.pushshift.io/reddit/search/submission'\n",
    "def fetch_reddit(url,size, subreddit, iterations,first_date):\n",
    "    my_list=[]\n",
    "    params = {'subreddit':subreddit,'size':size,'before':first_date}\n",
    "    for i in range(iterations):\n",
    "        response = requests.get(url,params)\n",
    "        # print(response.status_code)\n",
    "        response_extract = response.json()\n",
    "        my_list += response_extract['data']\n",
    "        params['before'] = my_list[-1]['created_utc']\n",
    "    return my_list\n"
   ]
  },
  {
   "cell_type": "markdown",
   "id": "4ea0008e-d463-4c6f-a484-783ab2349a45",
   "metadata": {},
   "source": [
    "### DunkinDonuts"
   ]
  },
  {
   "cell_type": "code",
   "execution_count": 6,
   "id": "4189751d-b357-4236-882d-ce9a8494aed9",
   "metadata": {
    "scrolled": true,
    "tags": []
   },
   "outputs": [],
   "source": [
    "function = fetch_reddit('https://api.pushshift.io/reddit/search/submission/',50,'DunkinDonuts',100,1664392552)\n",
    "df_DD = pd.DataFrame(function)\n",
    "df_DD = df_DD[['subreddit','selftext','title']]"
   ]
  },
  {
   "cell_type": "code",
   "execution_count": 7,
   "id": "60739ee9-14fc-467a-9f6a-192f54088dc3",
   "metadata": {},
   "outputs": [
    {
     "name": "stdout",
     "output_type": "stream",
     "text": [
      "(4996, 3)\n"
     ]
    },
    {
     "data": {
      "text/html": [
       "<div>\n",
       "<style scoped>\n",
       "    .dataframe tbody tr th:only-of-type {\n",
       "        vertical-align: middle;\n",
       "    }\n",
       "\n",
       "    .dataframe tbody tr th {\n",
       "        vertical-align: top;\n",
       "    }\n",
       "\n",
       "    .dataframe thead th {\n",
       "        text-align: right;\n",
       "    }\n",
       "</style>\n",
       "<table border=\"1\" class=\"dataframe\">\n",
       "  <thead>\n",
       "    <tr style=\"text-align: right;\">\n",
       "      <th></th>\n",
       "      <th>subreddit</th>\n",
       "      <th>selftext</th>\n",
       "      <th>title</th>\n",
       "    </tr>\n",
       "  </thead>\n",
       "  <tbody>\n",
       "    <tr>\n",
       "      <th>0</th>\n",
       "      <td>DunkinDonuts</td>\n",
       "      <td>Idk how to add multiple pics but there’s a hur...</td>\n",
       "      <td>Most of FL probably won’t get to redeem the fr...</td>\n",
       "    </tr>\n",
       "    <tr>\n",
       "      <th>1</th>\n",
       "      <td>DunkinDonuts</td>\n",
       "      <td>Yesterday was my third day at Dunkin. I'm star...</td>\n",
       "      <td>First angry customer :(</td>\n",
       "    </tr>\n",
       "    <tr>\n",
       "      <th>2</th>\n",
       "      <td>DunkinDonuts</td>\n",
       "      <td>I would love to be able to order ahead, but th...</td>\n",
       "      <td>Any way to increase # of pumps in app?</td>\n",
       "    </tr>\n",
       "    <tr>\n",
       "      <th>3</th>\n",
       "      <td>DunkinDonuts</td>\n",
       "      <td></td>\n",
       "      <td>‘tis the spooky season</td>\n",
       "    </tr>\n",
       "    <tr>\n",
       "      <th>4</th>\n",
       "      <td>DunkinDonuts</td>\n",
       "      <td>In two days I have an interview at Dunkin. Doe...</td>\n",
       "      <td>Interview soon</td>\n",
       "    </tr>\n",
       "  </tbody>\n",
       "</table>\n",
       "</div>"
      ],
      "text/plain": [
       "      subreddit                                           selftext  \\\n",
       "0  DunkinDonuts  Idk how to add multiple pics but there’s a hur...   \n",
       "1  DunkinDonuts  Yesterday was my third day at Dunkin. I'm star...   \n",
       "2  DunkinDonuts  I would love to be able to order ahead, but th...   \n",
       "3  DunkinDonuts                                                      \n",
       "4  DunkinDonuts  In two days I have an interview at Dunkin. Doe...   \n",
       "\n",
       "                                               title  \n",
       "0  Most of FL probably won’t get to redeem the fr...  \n",
       "1                            First angry customer :(  \n",
       "2             Any way to increase # of pumps in app?  \n",
       "3                             ‘tis the spooky season  \n",
       "4                                     Interview soon  "
      ]
     },
     "execution_count": 7,
     "metadata": {},
     "output_type": "execute_result"
    }
   ],
   "source": [
    "print(df_DD.shape)\n",
    "df_DD.head()"
   ]
  },
  {
   "cell_type": "markdown",
   "id": "b0892f5f-e0a8-4929-8c1b-47429cc2a1ec",
   "metadata": {},
   "source": [
    "### Starbucks"
   ]
  },
  {
   "cell_type": "code",
   "execution_count": 8,
   "id": "da01f12d-82d9-4d07-bd66-b5dbc88ec87c",
   "metadata": {},
   "outputs": [],
   "source": [
    "function_sb = fetch_reddit('https://api.pushshift.io/reddit/search/submission/',50,'starbucks',100,1664396402)\n",
    "df_SB = pd.DataFrame(function_sb)\n",
    "df_SB = df_SB[['subreddit','selftext','title']]"
   ]
  },
  {
   "cell_type": "code",
   "execution_count": 9,
   "id": "9a098264-5d45-4a12-98ec-3d456f050aed",
   "metadata": {},
   "outputs": [
    {
     "name": "stdout",
     "output_type": "stream",
     "text": [
      "(4999, 3)\n"
     ]
    },
    {
     "data": {
      "text/html": [
       "<div>\n",
       "<style scoped>\n",
       "    .dataframe tbody tr th:only-of-type {\n",
       "        vertical-align: middle;\n",
       "    }\n",
       "\n",
       "    .dataframe tbody tr th {\n",
       "        vertical-align: top;\n",
       "    }\n",
       "\n",
       "    .dataframe thead th {\n",
       "        text-align: right;\n",
       "    }\n",
       "</style>\n",
       "<table border=\"1\" class=\"dataframe\">\n",
       "  <thead>\n",
       "    <tr style=\"text-align: right;\">\n",
       "      <th></th>\n",
       "      <th>subreddit</th>\n",
       "      <th>selftext</th>\n",
       "      <th>title</th>\n",
       "    </tr>\n",
       "  </thead>\n",
       "  <tbody>\n",
       "    <tr>\n",
       "      <th>0</th>\n",
       "      <td>starbucks</td>\n",
       "      <td></td>\n",
       "      <td>My new favorite 50 stars drink! Caffe misto wi...</td>\n",
       "    </tr>\n",
       "    <tr>\n",
       "      <th>1</th>\n",
       "      <td>starbucks</td>\n",
       "      <td>I’m like all for partners getting first dibs, ...</td>\n",
       "      <td>How does your store handle partners buying mer...</td>\n",
       "    </tr>\n",
       "    <tr>\n",
       "      <th>2</th>\n",
       "      <td>starbucks</td>\n",
       "      <td>2 of us on shift.. a full cafe and queue to th...</td>\n",
       "      <td>8am.. 🤦🏻‍♀️</td>\n",
       "    </tr>\n",
       "    <tr>\n",
       "      <th>3</th>\n",
       "      <td>starbucks</td>\n",
       "      <td>My area stores only have clearly straight male...</td>\n",
       "      <td>Looking for the gay male baristas?</td>\n",
       "    </tr>\n",
       "    <tr>\n",
       "      <th>4</th>\n",
       "      <td>starbucks</td>\n",
       "      <td>Yes it’s a cafe order and yes I watched her si...</td>\n",
       "      <td>Reasons why I hate my job.</td>\n",
       "    </tr>\n",
       "  </tbody>\n",
       "</table>\n",
       "</div>"
      ],
      "text/plain": [
       "   subreddit                                           selftext  \\\n",
       "0  starbucks                                                      \n",
       "1  starbucks  I’m like all for partners getting first dibs, ...   \n",
       "2  starbucks  2 of us on shift.. a full cafe and queue to th...   \n",
       "3  starbucks  My area stores only have clearly straight male...   \n",
       "4  starbucks  Yes it’s a cafe order and yes I watched her si...   \n",
       "\n",
       "                                               title  \n",
       "0  My new favorite 50 stars drink! Caffe misto wi...  \n",
       "1  How does your store handle partners buying mer...  \n",
       "2                                        8am.. 🤦🏻‍♀️  \n",
       "3                 Looking for the gay male baristas?  \n",
       "4                         Reasons why I hate my job.  "
      ]
     },
     "execution_count": 9,
     "metadata": {},
     "output_type": "execute_result"
    }
   ],
   "source": [
    "print(df_SB.shape)\n",
    "df_SB.head()"
   ]
  },
  {
   "cell_type": "markdown",
   "id": "af48e81e-4afd-4225-a0f4-e2da379e4130",
   "metadata": {},
   "source": [
    "### Exporting to CSV"
   ]
  },
  {
   "cell_type": "code",
   "execution_count": 10,
   "id": "d860d699-a761-49aa-9c30-994979fd835b",
   "metadata": {},
   "outputs": [],
   "source": [
    "df_SB.to_csv('data/data_starbucks.csv' , index = False)"
   ]
  },
  {
   "cell_type": "code",
   "execution_count": null,
   "id": "261d0c1f-0e3e-476e-a922-72138dba0efa",
   "metadata": {},
   "outputs": [],
   "source": [
    "df_DD.to_csv('data/data_DunkinDonuts.csv' , index = False)"
   ]
  }
 ],
 "metadata": {
  "kernelspec": {
   "display_name": "Python 3 (ipykernel)",
   "language": "python",
   "name": "python3"
  },
  "language_info": {
   "codemirror_mode": {
    "name": "ipython",
    "version": 3
   },
   "file_extension": ".py",
   "mimetype": "text/x-python",
   "name": "python",
   "nbconvert_exporter": "python",
   "pygments_lexer": "ipython3",
   "version": "3.8.13"
  }
 },
 "nbformat": 4,
 "nbformat_minor": 5
}
